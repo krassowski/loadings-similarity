{
 "cells": [
  {
   "cell_type": "code",
   "execution_count": 1,
   "metadata": {},
   "outputs": [],
   "source": [
    "from sklearn import datasets\n",
    "from pandas import DataFrame"
   ]
  },
  {
   "cell_type": "code",
   "execution_count": 2,
   "metadata": {},
   "outputs": [],
   "source": [
    "mnist = datasets.fetch_openml('mnist_784', version=1)"
   ]
  },
  {
   "cell_type": "code",
   "execution_count": 3,
   "metadata": {},
   "outputs": [],
   "source": [
    "mnist_data = DataFrame(mnist.data)"
   ]
  },
  {
   "cell_type": "code",
   "execution_count": 4,
   "metadata": {},
   "outputs": [],
   "source": [
    "%%capture\n",
    "%load_ext rpy2.ipython\n",
    "%R library(pcaMethods)"
   ]
  },
  {
   "cell_type": "code",
   "execution_count": 5,
   "metadata": {},
   "outputs": [],
   "source": [
    "%R -i mnist_data"
   ]
  },
  {
   "cell_type": "markdown",
   "metadata": {},
   "source": [
    "### 10 components"
   ]
  },
  {
   "cell_type": "markdown",
   "metadata": {},
   "source": [
    "7 minutes for 10 components..."
   ]
  },
  {
   "cell_type": "code",
   "execution_count": 6,
   "metadata": {},
   "outputs": [],
   "source": [
    "%%R\n",
    "pcIr <- pca(mnist_data, scale='uv', nPcs=10)"
   ]
  },
  {
   "cell_type": "code",
   "execution_count": 7,
   "metadata": {},
   "outputs": [
    {
     "name": "stdout",
     "output_type": "stream",
     "text": [
      "      PC 1       PC 2       PC 3       PC 4       PC 5       PC 6       PC 7 \n",
      "0.05228099 0.08611651 0.11962653 0.14346281 0.16432368 0.18118002 0.19585498 \n",
      "      PC 8       PC 9      PC 10 \n",
      "0.20768630 0.21786752 0.22387267 \n"
     ]
    }
   ],
   "source": [
    "%%R\n",
    "q2 <- Q2(pcIr, mnist_data)\n",
    "q2"
   ]
  },
  {
   "cell_type": "code",
   "execution_count": 8,
   "metadata": {},
   "outputs": [
    {
     "data": {
      "image/png": "[encoded data removed]"
     },
     "metadata": {},
     "output_type": "display_data"
    }
   ],
   "source": [
    "%%R\n",
    "barplot(q2, main=\"Krzanowski CV\", xlab=\"Number of PCs\", ylab=expression(Q^2))"
   ]
  },
  {
   "cell_type": "markdown",
   "metadata": {},
   "source": [
    "### 100 components"
   ]
  },
  {
   "cell_type": "code",
   "execution_count": 15,
   "metadata": {},
   "outputs": [],
   "source": [
    "%%R\n",
    "pcIr_100 <- pca(mnist_data, scale='uv', nPcs=100)"
   ]
  },
  {
   "cell_type": "code",
   "execution_count": 19,
   "metadata": {},
   "outputs": [
    {
     "name": "stdout",
     "output_type": "stream",
     "text": [
      "      PC 1       PC 2       PC 3       PC 4       PC 5       PC 6       PC 7 \n",
      "0.05224252 0.08729506 0.12084620 0.14533830 0.16772982 0.18708786 0.20187804 \n",
      "      PC 8       PC 9      PC 10      PC 11      PC 12      PC 13      PC 14 \n",
      "0.21386219 0.22478877 0.23198211 0.24034630 0.24687889 0.24957195 0.25363640 \n",
      "     PC 15      PC 16      PC 17      PC 18      PC 19      PC 20      PC 21 \n",
      "0.25467588 0.25774988 0.25705228 0.25808408 0.25816009 0.25994039 0.26128785 \n",
      "     PC 22      PC 23      PC 24      PC 25      PC 26      PC 27      PC 28 \n",
      "0.26184967 0.26304147 0.26333983 0.26124047 0.25898865 0.25833657 0.25781160 \n",
      "     PC 29      PC 30      PC 31      PC 32      PC 33      PC 34      PC 35 \n",
      "0.25637287 0.25439563 0.25282082 0.25095486 0.24885246 0.24611332 0.24309804 \n",
      "     PC 36      PC 37      PC 38      PC 39      PC 40      PC 41      PC 42 \n",
      "0.24120057 0.23904655 0.23706372 0.23600794 0.23359031 0.23074793 0.22724179 \n",
      "     PC 43      PC 44      PC 45      PC 46      PC 47      PC 48      PC 49 \n",
      "0.22379709 0.22116566 0.21818077 0.21503543 0.21204299 0.20871443 0.20586538 \n",
      "     PC 50      PC 51      PC 52      PC 53      PC 54      PC 55      PC 56 \n",
      "0.20316621 0.20043691 0.19856409 0.19517113 0.19212480 0.18957990 0.18628875 \n",
      "     PC 57      PC 58      PC 59      PC 60      PC 61      PC 62      PC 63 \n",
      "0.18347946 0.18017483 0.17799507 0.17556073 0.17320139 0.17069646 0.16853989 \n",
      "     PC 64      PC 65      PC 66      PC 67      PC 68      PC 69      PC 70 \n",
      "0.16621948 0.16380065 0.16113767 0.15853190 0.15576457 0.15295659 0.15018735 \n",
      "     PC 71      PC 72      PC 73      PC 74      PC 75      PC 76      PC 77 \n",
      "0.14776099 0.14496081 0.14285798 0.14022470 0.13778849 0.13562259 0.13307213 \n",
      "     PC 78      PC 79      PC 80      PC 81      PC 82      PC 83      PC 84 \n",
      "0.13075669 0.12866170 0.12632671 0.12415785 0.12200509 0.11999165 0.11779609 \n",
      "     PC 85      PC 86      PC 87      PC 88      PC 89      PC 90      PC 91 \n",
      "0.11555144 0.11327741 0.11100514 0.10907497 0.10724342 0.10519484 0.10337027 \n",
      "     PC 92      PC 93      PC 94      PC 95      PC 96      PC 97      PC 98 \n",
      "0.10126218 0.09909223 0.09705979 0.09522939 0.09328616 0.09160673 0.08968772 \n",
      "     PC 99     PC 100 \n",
      "0.08793094 0.08623922 \n"
     ]
    }
   ],
   "source": [
    "%%R\n",
    "q2_100 <- Q2(pcIr_100, mnist_data)\n",
    "q2_100"
   ]
  },
  {
   "cell_type": "code",
   "execution_count": 27,
   "metadata": {},
   "outputs": [
    {
     "data": {
      "image/png": "[encoded data removed]"
     },
     "metadata": {},
     "output_type": "display_data"
    }
   ],
   "source": [
    "%%R\n",
    "barplot(q2_100, main=\"Krzanowski CV for first 100 components of PCA(MNIST)\", xlab=\"Number of PCs\", ylab=expression(Q^2))"
   ]
  },
  {
   "cell_type": "code",
   "execution_count": 26,
   "metadata": {},
   "outputs": [
    {
     "data": {
      "text/plain": [
       "array([24], dtype=int32)"
      ]
     },
     "execution_count": 26,
     "metadata": {},
     "output_type": "execute_result"
    }
   ],
   "source": [
    "%R which(q2_100 == max(q2_100))"
   ]
  },
  {
   "cell_type": "markdown",
   "metadata": {},
   "source": [
    "Running with all components:"
   ]
  },
  {
   "cell_type": "code",
   "execution_count": null,
   "metadata": {},
   "outputs": [],
   "source": [
    "# pcIr <- pca(mnist_data, scale='uv', nPcs=ncol(mnist_data))"
   ]
  },
  {
   "cell_type": "markdown",
   "metadata": {},
   "source": [
    "was not feasible."
   ]
  }
 ],
 "metadata": {
  "kernelspec": {
   "display_name": "Python 3",
   "language": "python",
   "name": "python3"
  },
  "language_info": {
   "codemirror_mode": {
    "name": "ipython",
    "version": 3
   },
   "file_extension": ".py",
   "mimetype": "text/x-python",
   "name": "python",
   "nbconvert_exporter": "python",
   "pygments_lexer": "ipython3",
   "version": "3.8.1"
  }
 },
 "nbformat": 4,
 "nbformat_minor": 4
}
